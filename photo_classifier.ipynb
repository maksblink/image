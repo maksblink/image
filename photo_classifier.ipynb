{
  "cells": [
    {
      "cell_type": "markdown",
      "metadata": {
        "id": "view-in-github",
        "colab_type": "text"
      },
      "source": [
        "<a href=\"https://colab.research.google.com/github/maksblink/image/blob/main/photo_classifier.ipynb\" target=\"_parent\"><img src=\"https://colab.research.google.com/assets/colab-badge.svg\" alt=\"Open In Colab\"/></a>"
      ]
    },
    {
      "cell_type": "markdown",
      "source": [
        "Importowanie modułu drive z biblioteki google.colab i zamontowanie Google Drive"
      ],
      "metadata": {
        "id": "VF_XS0JkAYLE"
      }
    },
    {
      "cell_type": "code",
      "source": [
        "from google.colab import drive\n",
        "\n",
        "drive.mount('/content/drive')"
      ],
      "metadata": {
        "id": "dFftNGThAI2o",
        "colab": {
          "base_uri": "https://localhost:8080/"
        },
        "outputId": "ee502087-00d9-4773-b68e-7fb1514c1074"
      },
      "execution_count": null,
      "outputs": [
        {
          "output_type": "stream",
          "name": "stdout",
          "text": [
            "Drive already mounted at /content/drive; to attempt to forcibly remount, call drive.mount(\"/content/drive\", force_remount=True).\n"
          ]
        }
      ]
    },
    {
      "cell_type": "markdown",
      "source": [
        "Importowanie potrzebnych bibliotek"
      ],
      "metadata": {
        "id": "ma6Ws7gWAi5n"
      }
    },
    {
      "cell_type": "code",
      "source": [
        "from math import e\n",
        "import re\n",
        "import torch\n",
        "import torch.nn as nn\n",
        "import torch.optim as optim\n",
        "from torchvision import transforms\n",
        "from torchvision.models import resnet34\n",
        "from sklearn.metrics import f1_score, precision_score, recall_score\n",
        "import matplotlib.pyplot as plt\n",
        "from PIL import Image\n",
        "from torchvision import datasets\n",
        "from torch.utils.data import DataLoader\n",
        "import torch.nn.functional as F\n",
        "import cv2\n",
        "import os\n",
        "from torch.optim.lr_scheduler import StepLR"
      ],
      "metadata": {
        "id": "0GimJnHKAnQM"
      },
      "execution_count": null,
      "outputs": []
    },
    {
      "cell_type": "markdown",
      "source": [
        "Sekcja odpowiezialna za zwiększenie ilości danych treningowych [wyłączona ponieważ prowadziła do overfit]\n"
      ],
      "metadata": {
        "id": "a8ODxnPzAsoW"
      }
    },
    {
      "cell_type": "code",
      "source": [
        "root_directory = r\"/content/drive/MyDrive/colab/ML_data/train\"\n",
        "\n",
        "#Definiowanie wartości alpha i beta do przekształceń kontrastu i jasności obrazu\n",
        "alpha_plus = 1.5\n",
        "beta_plus = 10\n",
        "alpha_minus = 0.5\n",
        "beta_minus = -35\n",
        "\n",
        "for dir_path, dir_names, file_names in os.walk(root_directory):\n",
        "    for file_name in file_names:\n",
        "        # Usuwanie przerobionych plików\n",
        "        # if file_name.endswith('_contrast_brightness.JPEG'):\n",
        "        #     file_path = os.path.join(dir_path, file_name)\n",
        "        #     os.remove(file_path)\n",
        "        #     print(f'Deleted: {file_path}')\n",
        "\n",
        "        # Transformowanie plików i zapis ich obok orginałów\n",
        "        if file_name.endswith(('.JPEG', '.JPG', '.PNG', '.jpeg', '.jpg', '.png')):\n",
        "            input_path = os.path.join(dir_path, file_name)\n",
        "\n",
        "            image = cv2.imread(input_path)\n",
        "\n",
        "            if image is not None:\n",
        "                contrast_brightness_image = cv2.convertScaleAbs(image, alpha=alpha_plus, beta=alpha_plus)\n",
        "\n",
        "                base_name, ext = os.path.splitext(file_name)\n",
        "                new_file_name = f'{base_name}_plus_contrast_brightness{ext}'\n",
        "\n",
        "                output_path = os.path.join(dir_path, new_file_name)\n",
        "\n",
        "                cv2.imwrite(output_path, contrast_brightness_image)\n",
        "\n",
        "                contrast_brightness_image = cv2.convertScaleAbs(image, alpha=alpha_minus, beta=beta_minus)\n",
        "\n",
        "                base_name, ext = os.path.splitext(file_name)\n",
        "                new_file_name = f'{base_name}_minus_contrast_brightness{ext}'\n",
        "\n",
        "                output_path = os.path.join(dir_path, new_file_name)\n",
        "\n",
        "                cv2.imwrite(output_path, contrast_brightness_image)\n",
        "            else:\n",
        "                print(f'Image loading error: {input_path}')"
      ],
      "metadata": {
        "id": "WY2rAON2A1ko"
      },
      "execution_count": null,
      "outputs": []
    },
    {
      "cell_type": "markdown",
      "source": [
        "Tworzenie transformacji obrazu"
      ],
      "metadata": {
        "id": "Z7D9MlAnBFCo"
      }
    },
    {
      "cell_type": "code",
      "source": [
        "transform = transforms.Compose([\n",
        "    transforms.Resize((224, 224)),  # Zmiana rozmiaru obrazu na 224x224 pikseli\n",
        "    transforms.ToTensor(),  # Konwersja obrazu na tensor\n",
        "    transforms.Normalize(mean=[0.485, 0.456, 0.406], std=[0.229, 0.224, 0.225]),  # Normalizacja wartości pikseli\n",
        "])"
      ],
      "metadata": {
        "id": "8oTNwP1vBM30"
      },
      "execution_count": null,
      "outputs": []
    },
    {
      "cell_type": "markdown",
      "source": [
        "Sekcja odpowiezialna za wyświetlanie każdego zdjęcia przed jego wczytaniem [wyłączona]\n"
      ],
      "metadata": {
        "id": "eAlKKYsUBUit"
      }
    },
    {
      "cell_type": "code",
      "source": [
        "train_dataset = datasets.ImageFolder(r\"C:\\Users\\blink\\Desktop\\ML_data\\train\", transform=None)\n",
        "\n",
        "for img, label in train_dataset:\n",
        "    img = transform(img)\n",
        "\n",
        "    plt.imshow(img.squeeze().permute(1, 2, 0).numpy())\n",
        "    plt.title(f\"Label: {label}\")\n",
        "    plt.show()\n",
        "\n",
        "train_dataset.transform = transform"
      ],
      "metadata": {
        "id": "9wyh0vVsBY9O"
      },
      "execution_count": null,
      "outputs": []
    },
    {
      "cell_type": "markdown",
      "source": [
        "Tworzenie zbioru treningowego i walidacyjnego oraz załadowanie ich do DataLoader"
      ],
      "metadata": {
        "id": "wyLfiJFOBiFn"
      }
    },
    {
      "cell_type": "code",
      "source": [
        "train_dataset = datasets.ImageFolder(r\"/content/drive/MyDrive/colab/ML_big_data/train\", transform=transform)\n",
        "train_loader = DataLoader(train_dataset, batch_size=64, shuffle=True, num_workers=4)\n",
        "val_dataset = datasets.ImageFolder(r\"/content/drive/MyDrive/colab/ML_big_data/val\", transform=transform)\n",
        "val_loader = DataLoader(val_dataset, batch_size=64, shuffle=False, num_workers=4)"
      ],
      "metadata": {
        "id": "7tYnafKQBn_j"
      },
      "execution_count": null,
      "outputs": []
    },
    {
      "cell_type": "markdown",
      "source": [
        "Definicja modelu ResNet-34 z warstwą Dropout"
      ],
      "metadata": {
        "id": "xE3u4E9_Bw9z"
      }
    },
    {
      "cell_type": "code",
      "source": [
        "class MyResNet(nn.Module):\n",
        "    def __init__(self, num_classes, dropout_chance=0.5):\n",
        "        super(MyResNet, self).__init__()\n",
        "        self.resnet = resnet34(pretrained=True)  # Ładowanie pre-trenowanego modelu ResNet-34\n",
        "        num_features = self.resnet.fc.in_features  # Pobieranie liczby cech wejściowych do ostatniej warstwy\n",
        "        self.resnet.fc = nn.Sequential(\n",
        "            nn.Dropout(p=dropout_chance),  # Dodawanie warstwy Dropout\n",
        "            nn.Linear(num_features, num_classes)  # Zamiana ostatniej warstwy na liniową warstwę wyjściową z num_classes klasami\n",
        "        )\n",
        "\n",
        "    def forward(self, x):\n",
        "        return self.resnet(x)"
      ],
      "metadata": {
        "id": "j5Ye7kV6B_VO"
      },
      "execution_count": null,
      "outputs": []
    },
    {
      "cell_type": "markdown",
      "source": [
        "Tworzenie modelu z warstwą Dropout\n"
      ],
      "metadata": {
        "id": "G-3jsOqHCISm"
      }
    },
    {
      "cell_type": "code",
      "source": [
        "model = MyResNet(num_classes=10, dropout_chance=0.5)"
      ],
      "metadata": {
        "id": "EnaEa2zGCMFM"
      },
      "execution_count": null,
      "outputs": []
    },
    {
      "cell_type": "markdown",
      "source": [
        "Definiowanie funkcji straty (CrossEntropyLoss) i optymalizatora (SGD)\n"
      ],
      "metadata": {
        "id": "afo_bUZMCRzv"
      }
    },
    {
      "cell_type": "code",
      "source": [
        "criterion = nn.CrossEntropyLoss()\n",
        "optimizer = optim.SGD(model.parameters(), lr=0.01, momentum=0.9, weight_decay=1e-4)"
      ],
      "metadata": {
        "id": "IH05Ltd-CVBb"
      },
      "execution_count": null,
      "outputs": []
    },
    {
      "cell_type": "markdown",
      "source": [
        "Tworzenie scheduler [wyłączone]"
      ],
      "metadata": {
        "id": "33okcoFKCZPl"
      }
    },
    {
      "cell_type": "code",
      "source": [
        "scheduler = StepLR(optimizer, step_size=4, gamma=0.9)"
      ],
      "metadata": {
        "id": "wiOO-3lkCkTi"
      },
      "execution_count": null,
      "outputs": []
    },
    {
      "cell_type": "markdown",
      "source": [
        "Wczytanie wag modelu z pliku\n"
      ],
      "metadata": {
        "id": "NZQ3Gh_dCoau"
      }
    },
    {
      "cell_type": "code",
      "source": [
        "# model = torch.load(r\"/content/drive/MyDrive/colab/the_best_model.pt\", map_location=torch.device('cpu'))\n",
        "model.load_state_dict(torch.load(r\"/content/drive/MyDrive/colab/the_best_model.pt\"))"
      ],
      "metadata": {
        "id": "Mlzz6kc3Ct94"
      },
      "execution_count": null,
      "outputs": []
    },
    {
      "cell_type": "markdown",
      "source": [
        "Określanie liczby epok i urządzenia wykonawczego"
      ],
      "metadata": {
        "id": "cAXTm7BaC0l0"
      }
    },
    {
      "cell_type": "code",
      "source": [
        "number_of_epochs = 22\n",
        "device = torch.device(\"cuda\" if torch.cuda.is_available() else \"cpu\")\n",
        "model.to(device) # Przekazanie modelu na urządzenie"
      ],
      "metadata": {
        "id": "yiPbEm1ZDFwS"
      },
      "execution_count": null,
      "outputs": []
    },
    {
      "cell_type": "markdown",
      "source": [
        "Tworzenie tablic do zapisu statystyk"
      ],
      "metadata": {
        "id": "V5zyYI54Di7D"
      }
    },
    {
      "cell_type": "code",
      "source": [
        "train_precision_history = []\n",
        "val_precision_history = []\n",
        "train_recall_history = []\n",
        "val_recall_history = []\n",
        "train_loss_history = []\n",
        "val_loss_history = []\n",
        "train_f1_history = []\n",
        "val_f1_history = []"
      ],
      "metadata": {
        "id": "ogdbweYwDtC1"
      },
      "execution_count": null,
      "outputs": []
    },
    {
      "cell_type": "markdown",
      "source": [
        "Pętla trenująca model\n"
      ],
      "metadata": {
        "id": "_qnlrwZmDxuS"
      }
    },
    {
      "cell_type": "code",
      "source": [
        "for epoch in range(number_of_epochs):\n",
        "    model.train()  # Ustawienie modelu w tryb treningu\n",
        "\n",
        "    running_train_loss = 0.0\n",
        "    train_labels = []\n",
        "    train_preds = []\n",
        "\n",
        "    now = 1\n",
        "    how_much = str(len(train_loader))\n",
        "\n",
        "    for images, labels in train_loader:\n",
        "        print(\"Epoch: \" + str(epoch + 1) + \" [\" + str(now) + \"/\" + how_much + \"]\")\n",
        "        now += 1\n",
        "\n",
        "        images, labels = images.to(device), labels.to(device)\n",
        "\n",
        "        optimizer.zero_grad()  # Wyzerowanie gradientów\n",
        "        outputs = model(images)  # Przekazanie obrazów przez model\n",
        "        loss = criterion(outputs, labels)  # Obliczenie straty\n",
        "        loss.backward()  # Propagacja wsteczna\n",
        "\n",
        "        optimizer.step()  # Aktualizacja wag\n",
        "\n",
        "        # scheduler.step() # Wyłączony\n",
        "\n",
        "        running_train_loss += loss.item()  # Dodanie strat\n",
        "        train_labels.extend(labels.cpu().numpy())\n",
        "        train_preds.extend(torch.argmax(outputs, dim=1).cpu().numpy())\n",
        "\n",
        "    # Obliczenie i zapisanie statystyk treningowych; loss, precision, recall, f1\n",
        "    train_precision = precision_score(train_labels, train_preds, average='macro', zero_division=1)\n",
        "    train_recall = recall_score(train_labels, train_preds, average='macro', zero_division=1)\n",
        "    train_loss = running_train_loss / len(train_loader)\n",
        "    train_f1 = f1_score(train_labels, train_preds, average='macro')\n",
        "\n",
        "    model.eval()  # Ustawienie modelu w trybie ewaluacji (bez obliczania gradientów)\n",
        "    running_val_loss = 0.0\n",
        "    val_labels = []\n",
        "    val_preds = []\n",
        "\n",
        "    with torch.no_grad():\n",
        "        for images, labels in val_loader:\n",
        "            images, labels = images.to(device), labels.to(device)\n",
        "\n",
        "            outputs = model(images)  # Przekazanie obrazów przez model\n",
        "            loss = criterion(outputs, labels)  # Obliczenie straty\n",
        "            running_val_loss += loss.item()  # Dodanie strat\n",
        "            val_labels.extend(labels.cpu().numpy())\n",
        "            val_preds.extend(torch.argmax(outputs, dim=1).cpu().numpy())\n",
        "\n",
        "    # Obliczenie i zapisanie statystyk walidacyjnych; loss, precision, recall, f1\n",
        "    val_precision = precision_score(val_labels, val_preds, average='macro', zero_division=1)\n",
        "    val_recall = recall_score(val_labels, val_preds, average='macro', zero_division=1)\n",
        "    val_loss = running_val_loss / len(val_loader)\n",
        "    val_f1 = f1_score(val_labels, val_preds, average='macro')\n",
        "\n",
        "    train_precision_history.append(train_precision)\n",
        "    val_precision_history.append(val_precision)\n",
        "    train_recall_history.append(train_recall)\n",
        "    val_recall_history.append(val_recall)\n",
        "    train_loss_history.append(train_loss)\n",
        "    val_loss_history.append(val_loss)\n",
        "    train_f1_history.append(train_f1)\n",
        "    val_f1_history.append(val_f1)\n",
        "\n",
        "    print(f\"Epoch [{epoch + 1}/{number_of_epochs}] Train Loss: {train_loss:.6f} F1: {train_f1:.6f} | Val Loss: {val_loss:.6f} F1: {val_f1:.6f}\")"
      ],
      "metadata": {
        "id": "ffZbI23LD9dK"
      },
      "execution_count": null,
      "outputs": []
    },
    {
      "cell_type": "markdown",
      "source": [
        "Zapisanie modelu"
      ],
      "metadata": {
        "id": "FXb71fVMEq1K"
      }
    },
    {
      "cell_type": "code",
      "source": [
        "torch.save(model.state_dict(), 'the_best_model.pt')"
      ],
      "metadata": {
        "id": "aAQbLgy1EwB8"
      },
      "execution_count": null,
      "outputs": []
    },
    {
      "cell_type": "markdown",
      "source": [
        "Tworzenie i wyświetlanie wykresów prezentujących wyniki treningu"
      ],
      "metadata": {
        "id": "PWEYDmfuEzjN"
      }
    },
    {
      "cell_type": "code",
      "source": [
        "plt.figure(figsize=(12, 6))\n",
        "\n",
        "plot_range = []\n",
        "\n",
        "for i in range(number_of_epochs):\n",
        "    plot_range.append(i + 1)\n",
        "\n",
        "# Loss\n",
        "plt.subplot(2, 2, 4)\n",
        "plt.plot(plot_range, train_loss_history, label='Train Loss')\n",
        "plt.plot(plot_range, val_loss_history, label='Val Loss')\n",
        "plt.xlabel('Epochs')\n",
        "plt.ylabel('Loss')\n",
        "plt.legend()\n",
        "\n",
        "# Precision\n",
        "plt.subplot(2, 2, 1)\n",
        "plt.plot(plot_range, train_precision_history, label='Train Precision')\n",
        "plt.plot(plot_range, val_precision_history, label='Val Precision')\n",
        "plt.xlabel('Epochs')\n",
        "plt.ylabel('Precision')\n",
        "plt.legend()\n",
        "\n",
        "# Recall\n",
        "plt.subplot(2, 2, 2)\n",
        "plt.plot(plot_range, train_recall_history, label='Train Recall')\n",
        "plt.plot(plot_range, val_recall_history, label='Val Recall')\n",
        "plt.xlabel('Epochs')\n",
        "plt.ylabel('Recall')\n",
        "plt.legend()\n",
        "\n",
        "# f1\n",
        "plt.subplot(2, 2, 3)\n",
        "plt.plot(plot_range, train_f1_history, label='Train F1')\n",
        "plt.plot(plot_range, val_f1_history, label='Val F1')\n",
        "plt.xlabel('Epochs')\n",
        "plt.ylabel('F1')\n",
        "plt.legend()\n",
        "\n",
        "plt.tight_layout()\n",
        "\n",
        "# Wyświetlenie wykresów prezentujących wyniki treningu\n",
        "plt.show()"
      ],
      "metadata": {
        "id": "15dCtQtbE5kX"
      },
      "execution_count": null,
      "outputs": []
    },
    {
      "cell_type": "markdown",
      "source": [
        "Funkcja do przewidywania klasy obrazu za pomocą modelu\n"
      ],
      "metadata": {
        "id": "cU7zvW4ZFLd0"
      }
    },
    {
      "cell_type": "code",
      "source": [
        "def predict_class(model_to_prediction, image_path):\n",
        "    image = Image.open(image_path)\n",
        "    image = transform(image).unsqueeze(0)\n",
        "    image = image.to(device)\n",
        "\n",
        "    model_to_prediction.eval()\n",
        "    with torch.no_grad():\n",
        "        outputs_to_prediction = model_to_prediction(image)\n",
        "        predicted_class = torch.argmax(outputs_to_prediction, dim=1).item()\n",
        "\n",
        "        # Wyświetlenia prawdopodobieństw dla wszystkich indeksów klas\n",
        "        print(\"===========================================================================\\n\")\n",
        "\n",
        "        probabilities = F.softmax(outputs_to_prediction, dim=1)\n",
        "        for i in range(10):\n",
        "            class_probability = probabilities[0, i].item()\n",
        "            print(\"Probability for class index \", i, \" : \", class_probability)\n",
        "\n",
        "        print(\"\\n===========================================================================\\n\")\n",
        "\n",
        "    return predicted_class"
      ],
      "metadata": {
        "id": "-xeOPjCqFQey"
      },
      "execution_count": null,
      "outputs": []
    },
    {
      "cell_type": "markdown",
      "source": [
        "Funkcja do wyświetlania przewidywanych klas obrazów\n"
      ],
      "metadata": {
        "id": "c0ukdXRJFZtl"
      }
    },
    {
      "cell_type": "code",
      "source": [
        "def view_prediction(list_of_paths):\n",
        "    class_map = {\n",
        "        0: 'aquatic_plants',\n",
        "        1: 'fish',\n",
        "        2: 'flamingo',\n",
        "        3: 'nematodes',\n",
        "        4: 'shark',\n",
        "        5: 'small_dragon',\n",
        "        6: 'snake',\n",
        "        7: 'spider',\n",
        "        8: 'turtle',\n",
        "        9: 'yellow_bird'\n",
        "    }\n",
        "\n",
        "    for path in list_of_paths:\n",
        "        predicted_class_index = predict_class(model, path)\n",
        "\n",
        "        match = re.search(r'test_(\\w+)', path)\n",
        "\n",
        "        if match:\n",
        "            true_class_index = match.group(1)\n",
        "            print(f'True class: {class_map[int(true_class_index)]}, True class index: {true_class_index}')\n",
        "            print(f'Predicted class: {class_map[predicted_class_index]}, Predicted class index: {predicted_class_index}\\n')"
      ],
      "metadata": {
        "id": "PFoFZ7xNFdJV"
      },
      "execution_count": null,
      "outputs": []
    },
    {
      "cell_type": "markdown",
      "source": [
        "Wyświetlenie przewidywanych klas obrazów"
      ],
      "metadata": {
        "id": "YP1GRlydFtaI"
      }
    },
    {
      "cell_type": "code",
      "execution_count": null,
      "metadata": {
        "id": "z-Z2hpPAJOZX"
      },
      "outputs": [],
      "source": [
        "print(\"===========================================================================\")\n",
        "print(\"===========================================================================\")\n",
        "print(\"===========================================================================\\n\")\n",
        "\n",
        "view_prediction([r\"/content/drive/MyDrive/colab/tests/test_0.JPEG\", r\"/content/drive/MyDrive/colab/tests/test_1.JPEG\",\n",
        "                 r\"/content/drive/MyDrive/colab/tests/test_2.JPEG\", r\"/content/drive/MyDrive/colab/tests/test_3.JPEG\",\n",
        "                 r\"/content/drive/MyDrive/colab/tests/test_4.JPEG\", r\"/content/drive/MyDrive/colab/tests/test_5.JPEG\",\n",
        "                 r\"/content/drive/MyDrive/colab/tests/test_6.JPEG\", r\"/content/drive/MyDrive/colab/tests/test_7.JPEG\",\n",
        "                 r\"/content/drive/MyDrive/colab/tests/test_8.JPEG\", r\"/content/drive/MyDrive/colab/tests/test_9.JPEG\"])\n",
        "\n",
        "print(\"===========================================================================\")\n",
        "print(\"===========================================================================\")\n",
        "print(\"===========================================================================\\n\")"
      ]
    },
    {
      "cell_type": "code",
      "source": [],
      "metadata": {
        "id": "BilobiobRtG7"
      },
      "execution_count": null,
      "outputs": []
    }
  ],
  "metadata": {
    "colab": {
      "provenance": [],
      "authorship_tag": "ABX9TyMhCe6t/c+rlRpjEyEvjA9a",
      "include_colab_link": true
    },
    "kernelspec": {
      "display_name": "Python 3",
      "name": "python3"
    },
    "language_info": {
      "name": "python"
    }
  },
  "nbformat": 4,
  "nbformat_minor": 0
}